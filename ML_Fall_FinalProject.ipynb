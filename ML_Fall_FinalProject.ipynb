{
 "cells": [
  {
   "cell_type": "markdown",
   "metadata": {},
   "source": [
    "## Machine Learing Project to find XXXXXX Nov-16-2018"
   ]
  },
  {
   "cell_type": "code",
   "execution_count": 138,
   "metadata": {},
   "outputs": [],
   "source": [
    "from keras.models import Sequential\n",
    "from keras.layers import Dense\n",
    "import numpy as np\n",
    "import pandas as pd\n",
    "import matplotlib.pyplot as plt"
   ]
  },
  {
   "cell_type": "markdown",
   "metadata": {},
   "source": [
    "### Import the dataset"
   ]
  },
  {
   "cell_type": "code",
   "execution_count": 139,
   "metadata": {},
   "outputs": [],
   "source": [
    "#dataset = pd.read_csv(\"/Users/cmallavarapu/Documents/Chiran/MSDS/ML/MLProject/train_sample.csv\")\n",
    "#dataset = pd.read_csv(\"/Users/bujji/Documents/MS_SMU/Sem_5_ML/MLProject/train_sample.csv\")\n",
    "dataset = pd.read_csv(\"/Users/chiranjeevimallavarapu/Documents/Chiran/MS_SMU/ML/MLProject/train_sample.csv\")\n",
    "\n"
   ]
  },
  {
   "cell_type": "code",
   "execution_count": 140,
   "metadata": {},
   "outputs": [
    {
     "data": {
      "text/html": [
       "<div>\n",
       "<style scoped>\n",
       "    .dataframe tbody tr th:only-of-type {\n",
       "        vertical-align: middle;\n",
       "    }\n",
       "\n",
       "    .dataframe tbody tr th {\n",
       "        vertical-align: top;\n",
       "    }\n",
       "\n",
       "    .dataframe thead th {\n",
       "        text-align: right;\n",
       "    }\n",
       "</style>\n",
       "<table border=\"1\" class=\"dataframe\">\n",
       "  <thead>\n",
       "    <tr style=\"text-align: right;\">\n",
       "      <th></th>\n",
       "      <th>ip</th>\n",
       "      <th>app</th>\n",
       "      <th>device</th>\n",
       "      <th>os</th>\n",
       "      <th>channel</th>\n",
       "      <th>click_time</th>\n",
       "      <th>attributed_time</th>\n",
       "      <th>is_attributed</th>\n",
       "    </tr>\n",
       "  </thead>\n",
       "  <tbody>\n",
       "    <tr>\n",
       "      <th>0</th>\n",
       "      <td>87540</td>\n",
       "      <td>12</td>\n",
       "      <td>1</td>\n",
       "      <td>13</td>\n",
       "      <td>497</td>\n",
       "      <td>2017-11-07 09:30:38</td>\n",
       "      <td>NaN</td>\n",
       "      <td>0</td>\n",
       "    </tr>\n",
       "    <tr>\n",
       "      <th>1</th>\n",
       "      <td>105560</td>\n",
       "      <td>25</td>\n",
       "      <td>1</td>\n",
       "      <td>17</td>\n",
       "      <td>259</td>\n",
       "      <td>2017-11-07 13:40:27</td>\n",
       "      <td>NaN</td>\n",
       "      <td>0</td>\n",
       "    </tr>\n",
       "    <tr>\n",
       "      <th>2</th>\n",
       "      <td>101424</td>\n",
       "      <td>12</td>\n",
       "      <td>1</td>\n",
       "      <td>19</td>\n",
       "      <td>212</td>\n",
       "      <td>2017-11-07 18:05:24</td>\n",
       "      <td>NaN</td>\n",
       "      <td>0</td>\n",
       "    </tr>\n",
       "    <tr>\n",
       "      <th>3</th>\n",
       "      <td>94584</td>\n",
       "      <td>13</td>\n",
       "      <td>1</td>\n",
       "      <td>13</td>\n",
       "      <td>477</td>\n",
       "      <td>2017-11-07 04:58:08</td>\n",
       "      <td>NaN</td>\n",
       "      <td>0</td>\n",
       "    </tr>\n",
       "    <tr>\n",
       "      <th>4</th>\n",
       "      <td>68413</td>\n",
       "      <td>12</td>\n",
       "      <td>1</td>\n",
       "      <td>1</td>\n",
       "      <td>178</td>\n",
       "      <td>2017-11-09 09:00:09</td>\n",
       "      <td>NaN</td>\n",
       "      <td>0</td>\n",
       "    </tr>\n",
       "  </tbody>\n",
       "</table>\n",
       "</div>"
      ],
      "text/plain": [
       "       ip  app  device  os  channel           click_time attributed_time  \\\n",
       "0   87540   12       1  13      497  2017-11-07 09:30:38             NaN   \n",
       "1  105560   25       1  17      259  2017-11-07 13:40:27             NaN   \n",
       "2  101424   12       1  19      212  2017-11-07 18:05:24             NaN   \n",
       "3   94584   13       1  13      477  2017-11-07 04:58:08             NaN   \n",
       "4   68413   12       1   1      178  2017-11-09 09:00:09             NaN   \n",
       "\n",
       "   is_attributed  \n",
       "0              0  \n",
       "1              0  \n",
       "2              0  \n",
       "3              0  \n",
       "4              0  "
      ]
     },
     "execution_count": 140,
     "metadata": {},
     "output_type": "execute_result"
    }
   ],
   "source": [
    "dataset.head()"
   ]
  },
  {
   "cell_type": "code",
   "execution_count": 141,
   "metadata": {},
   "outputs": [
    {
     "data": {
      "text/plain": [
       "100000"
      ]
     },
     "execution_count": 141,
     "metadata": {},
     "output_type": "execute_result"
    }
   ],
   "source": [
    "len(dataset)"
   ]
  },
  {
   "cell_type": "code",
   "execution_count": 142,
   "metadata": {},
   "outputs": [],
   "source": [
    "dataset['click_time'] = pd.to_datetime(dataset['click_time'])"
   ]
  },
  {
   "cell_type": "code",
   "execution_count": 143,
   "metadata": {},
   "outputs": [],
   "source": [
    "sttime = pd.Timestamp(min(dataset['click_time']))"
   ]
  },
  {
   "cell_type": "code",
   "execution_count": 144,
   "metadata": {},
   "outputs": [
    {
     "data": {
      "text/plain": [
       "Timestamp('2017-11-06 16:00:00')"
      ]
     },
     "execution_count": 144,
     "metadata": {},
     "output_type": "execute_result"
    }
   ],
   "source": [
    "sttime"
   ]
  },
  {
   "cell_type": "code",
   "execution_count": 145,
   "metadata": {},
   "outputs": [],
   "source": [
    "dataset['delta'] = (dataset['click_time']-sttime).astype('timedelta64[s]')"
   ]
  },
  {
   "cell_type": "code",
   "execution_count": 146,
   "metadata": {},
   "outputs": [
    {
     "data": {
      "text/html": [
       "<div>\n",
       "<style scoped>\n",
       "    .dataframe tbody tr th:only-of-type {\n",
       "        vertical-align: middle;\n",
       "    }\n",
       "\n",
       "    .dataframe tbody tr th {\n",
       "        vertical-align: top;\n",
       "    }\n",
       "\n",
       "    .dataframe thead th {\n",
       "        text-align: right;\n",
       "    }\n",
       "</style>\n",
       "<table border=\"1\" class=\"dataframe\">\n",
       "  <thead>\n",
       "    <tr style=\"text-align: right;\">\n",
       "      <th></th>\n",
       "      <th>ip</th>\n",
       "      <th>app</th>\n",
       "      <th>device</th>\n",
       "      <th>os</th>\n",
       "      <th>channel</th>\n",
       "      <th>click_time</th>\n",
       "      <th>attributed_time</th>\n",
       "      <th>is_attributed</th>\n",
       "      <th>delta</th>\n",
       "    </tr>\n",
       "  </thead>\n",
       "  <tbody>\n",
       "    <tr>\n",
       "      <th>0</th>\n",
       "      <td>87540</td>\n",
       "      <td>12</td>\n",
       "      <td>1</td>\n",
       "      <td>13</td>\n",
       "      <td>497</td>\n",
       "      <td>2017-11-07 09:30:38</td>\n",
       "      <td>NaN</td>\n",
       "      <td>0</td>\n",
       "      <td>63038.0</td>\n",
       "    </tr>\n",
       "    <tr>\n",
       "      <th>1</th>\n",
       "      <td>105560</td>\n",
       "      <td>25</td>\n",
       "      <td>1</td>\n",
       "      <td>17</td>\n",
       "      <td>259</td>\n",
       "      <td>2017-11-07 13:40:27</td>\n",
       "      <td>NaN</td>\n",
       "      <td>0</td>\n",
       "      <td>78027.0</td>\n",
       "    </tr>\n",
       "    <tr>\n",
       "      <th>2</th>\n",
       "      <td>101424</td>\n",
       "      <td>12</td>\n",
       "      <td>1</td>\n",
       "      <td>19</td>\n",
       "      <td>212</td>\n",
       "      <td>2017-11-07 18:05:24</td>\n",
       "      <td>NaN</td>\n",
       "      <td>0</td>\n",
       "      <td>93924.0</td>\n",
       "    </tr>\n",
       "    <tr>\n",
       "      <th>3</th>\n",
       "      <td>94584</td>\n",
       "      <td>13</td>\n",
       "      <td>1</td>\n",
       "      <td>13</td>\n",
       "      <td>477</td>\n",
       "      <td>2017-11-07 04:58:08</td>\n",
       "      <td>NaN</td>\n",
       "      <td>0</td>\n",
       "      <td>46688.0</td>\n",
       "    </tr>\n",
       "    <tr>\n",
       "      <th>4</th>\n",
       "      <td>68413</td>\n",
       "      <td>12</td>\n",
       "      <td>1</td>\n",
       "      <td>1</td>\n",
       "      <td>178</td>\n",
       "      <td>2017-11-09 09:00:09</td>\n",
       "      <td>NaN</td>\n",
       "      <td>0</td>\n",
       "      <td>234009.0</td>\n",
       "    </tr>\n",
       "  </tbody>\n",
       "</table>\n",
       "</div>"
      ],
      "text/plain": [
       "       ip  app  device  os  channel          click_time attributed_time  \\\n",
       "0   87540   12       1  13      497 2017-11-07 09:30:38             NaN   \n",
       "1  105560   25       1  17      259 2017-11-07 13:40:27             NaN   \n",
       "2  101424   12       1  19      212 2017-11-07 18:05:24             NaN   \n",
       "3   94584   13       1  13      477 2017-11-07 04:58:08             NaN   \n",
       "4   68413   12       1   1      178 2017-11-09 09:00:09             NaN   \n",
       "\n",
       "   is_attributed     delta  \n",
       "0              0   63038.0  \n",
       "1              0   78027.0  \n",
       "2              0   93924.0  \n",
       "3              0   46688.0  \n",
       "4              0  234009.0  "
      ]
     },
     "execution_count": 146,
     "metadata": {},
     "output_type": "execute_result"
    }
   ],
   "source": [
    "dataset.head()"
   ]
  },
  {
   "cell_type": "markdown",
   "metadata": {},
   "source": [
    "### Explore the data"
   ]
  },
  {
   "cell_type": "code",
   "execution_count": 11,
   "metadata": {},
   "outputs": [],
   "source": [
    "import seaborn as sns\n",
    "sns.set(style=\"ticks\")"
   ]
  },
  {
   "cell_type": "code",
   "execution_count": null,
   "metadata": {},
   "outputs": [
    {
     "name": "stderr",
     "output_type": "stream",
     "text": [
      "/Users/chiranjeevimallavarapu/anaconda3/lib/python3.6/site-packages/scipy/stats/stats.py:1713: FutureWarning: Using a non-tuple sequence for multidimensional indexing is deprecated; use `arr[tuple(seq)]` instead of `arr[seq]`. In the future this will be interpreted as an array index, `arr[np.array(seq)]`, which will result either in an error or a different result.\n",
      "  return np.add.reduce(sorted[indexer] * weights, axis=axis) / sumval\n",
      "/Users/chiranjeevimallavarapu/anaconda3/lib/python3.6/site-packages/numpy/core/_methods.py:140: RuntimeWarning: Degrees of freedom <= 0 for slice\n",
      "  keepdims=keepdims)\n",
      "/Users/chiranjeevimallavarapu/anaconda3/lib/python3.6/site-packages/numpy/core/_methods.py:132: RuntimeWarning: invalid value encountered in double_scalars\n",
      "  ret = ret.dtype.type(ret / rcount)\n",
      "/Users/chiranjeevimallavarapu/anaconda3/lib/python3.6/site-packages/statsmodels/nonparametric/bandwidths.py:20: RuntimeWarning: invalid value encountered in minimum\n",
      "  return np.minimum(np.std(X, axis=0, ddof=1), IQR)\n",
      "/Users/chiranjeevimallavarapu/anaconda3/lib/python3.6/site-packages/numpy/core/fromnumeric.py:83: RuntimeWarning: invalid value encountered in reduce\n",
      "  return ufunc.reduce(obj, axis, dtype, out, **passkwargs)\n",
      "/Users/chiranjeevimallavarapu/anaconda3/lib/python3.6/site-packages/statsmodels/nonparametric/kde.py:488: RuntimeWarning: invalid value encountered in true_divide\n",
      "  binned = fast_linbin(X, a, b, gridsize) / (delta * nobs)\n",
      "/Users/chiranjeevimallavarapu/anaconda3/lib/python3.6/site-packages/statsmodels/nonparametric/kdetools.py:34: RuntimeWarning: invalid value encountered in double_scalars\n",
      "  FAC1 = 2*(np.pi*bw/RANGE)**2\n"
     ]
    }
   ],
   "source": [
    "sns.pairplot(dataset, hue=\"device\")"
   ]
  },
  {
   "cell_type": "markdown",
   "metadata": {},
   "source": [
    "### Lets plot Is_Attributed Vs app"
   ]
  },
  {
   "cell_type": "code",
   "execution_count": null,
   "metadata": {},
   "outputs": [],
   "source": [
    "np.random.seed(19680801)\n",
    "fig = plt.figure(figsize=(8,6))\n",
    "\n",
    "N = 50\n",
    "#colors = np.random.rand(N)\n",
    "area = (30 * np.random.rand(N))**2  # 0 to 15 point radii\n",
    "\n",
    "colors = dataset['device']\n",
    "\n",
    "# c=colors,\n",
    "scatter=plt.scatter(dataset['app'], dataset['is_attributed'], s=100,alpha=0.4, c = colors,cmap='cool')\n",
    "fig.suptitle('Scatter Plot with Devices as colorbar', fontsize=30)\n",
    "plt.xlabel('app', fontsize=30)\n",
    "plt.ylabel('is_attributed', fontsize=30)\n",
    "\n",
    "\n",
    "plt.colorbar(scatter)\n",
    "plt.show()"
   ]
  },
  {
   "cell_type": "markdown",
   "metadata": {},
   "source": [
    "### Lets plot Is_Attributed vs Device"
   ]
  },
  {
   "cell_type": "code",
   "execution_count": null,
   "metadata": {},
   "outputs": [],
   "source": [
    "np.random.seed(19680801)\n",
    "fig = plt.figure(figsize=(8,6))\n",
    "\n",
    "N = 50\n",
    "#colors = np.random.rand(N)\n",
    "area = (30 * np.random.rand(N))**2  # 0 to 15 point radii\n",
    "\n",
    "colors = dataset['app']\n",
    "\n",
    "# c=colors,\n",
    "scatter=plt.scatter(dataset['device'], dataset['is_attributed'], s=100,alpha=0.40, c = colors,cmap='winter')\n",
    "fig.suptitle('Scatter Plot with app as colorbar', fontsize=30)\n",
    "plt.xlabel('device', fontsize=30)\n",
    "plt.ylabel('is_attributed', fontsize=30)\n",
    "\n",
    "\n",
    "plt.colorbar(scatter)\n",
    "plt.show()"
   ]
  },
  {
   "cell_type": "code",
   "execution_count": null,
   "metadata": {},
   "outputs": [],
   "source": [
    "np.random.seed(19680801)\n",
    "fig = plt.figure(figsize=(8,6))\n",
    "\n",
    "N = 50\n",
    "#colors = np.random.rand(N)\n",
    "area = (30 * np.random.rand(N))**2  # 0 to 15 point radii\n",
    "\n",
    "colors = dataset['device']\n",
    "\n",
    "# c=colors,\n",
    "scatter=plt.scatter(dataset['os'], dataset['is_attributed'], s=100,alpha=0.4, c = colors,cmap='summer')\n",
    "fig.suptitle('Scatter Plot with Devices as colorbar', fontsize=30)\n",
    "plt.xlabel('os', fontsize=30)\n",
    "plt.ylabel('is_attributed', fontsize=30)\n",
    "\n",
    "\n",
    "plt.colorbar(scatter)\n",
    "plt.show()"
   ]
  },
  {
   "cell_type": "markdown",
   "metadata": {},
   "source": [
    "#### Lets model the data using Neural Networks"
   ]
  },
  {
   "cell_type": "code",
   "execution_count": 235,
   "metadata": {},
   "outputs": [],
   "source": [
    "X_imb = np.array(dataset)[:,[0,1,2,3,4,8]]\n",
    "Y_imb = np.array(dataset)[:,7]"
   ]
  },
  {
   "cell_type": "code",
   "execution_count": 236,
   "metadata": {},
   "outputs": [
    {
     "name": "stderr",
     "output_type": "stream",
     "text": [
      "/Users/chiranjeevimallavarapu/anaconda3/lib/python3.6/site-packages/imblearn/utils/_validation.py:93: UserWarning: 'y' should be of types ('binary', 'multiclass', 'multilabel-indicator') only. Got unknown instead.\n",
      "  TARGET_KIND, type_of_target(y)))\n",
      "/Users/chiranjeevimallavarapu/anaconda3/lib/python3.6/site-packages/imblearn/utils/_validation.py:93: UserWarning: 'y' should be of types ('binary', 'multiclass', 'multilabel-indicator') only. Got unknown instead.\n",
      "  TARGET_KIND, type_of_target(y)))\n",
      "/Users/chiranjeevimallavarapu/anaconda3/lib/python3.6/site-packages/imblearn/utils/_validation.py:93: UserWarning: 'y' should be of types ('binary', 'multiclass', 'multilabel-indicator') only. Got unknown instead.\n",
      "  TARGET_KIND, type_of_target(y)))\n",
      "/Users/chiranjeevimallavarapu/anaconda3/lib/python3.6/site-packages/imblearn/utils/_validation.py:93: UserWarning: 'y' should be of types ('binary', 'multiclass', 'multilabel-indicator') only. Got unknown instead.\n",
      "  TARGET_KIND, type_of_target(y)))\n"
     ]
    }
   ],
   "source": [
    "from collections import Counter\n",
    "from imblearn.combine import SMOTEENN\n",
    "sme = SMOTEENN(random_state=42)\n",
    "X, Y = sme.fit_resample(X_imb, Y_imb)"
   ]
  },
  {
   "cell_type": "code",
   "execution_count": 150,
   "metadata": {},
   "outputs": [
    {
     "name": "stdout",
     "output_type": "stream",
     "text": [
      "Epoch 1/20\n",
      "175029/175029 [==============================] - 3s 16us/step - loss: 8.4213 - acc: 0.4775\n",
      "Epoch 2/20\n",
      "175029/175029 [==============================] - 1s 6us/step - loss: 8.4213 - acc: 0.4775\n",
      "Epoch 3/20\n",
      "175029/175029 [==============================] - 1s 6us/step - loss: 8.4213 - acc: 0.4775\n",
      "Epoch 4/20\n",
      "175029/175029 [==============================] - 1s 6us/step - loss: 8.4213 - acc: 0.4775\n",
      "Epoch 5/20\n",
      "175029/175029 [==============================] - 1s 6us/step - loss: 8.4213 - acc: 0.4775A: 0s - loss: 8.4239 - acc: 0.47\n",
      "Epoch 6/20\n",
      "175029/175029 [==============================] - 1s 6us/step - loss: 8.4213 - acc: 0.4775\n",
      "Epoch 7/20\n",
      "175029/175029 [==============================] - 1s 7us/step - loss: 8.4213 - acc: 0.4775\n",
      "Epoch 8/20\n",
      "175029/175029 [==============================] - 1s 8us/step - loss: 8.4213 - acc: 0.4775\n",
      "Epoch 9/20\n",
      "175029/175029 [==============================] - 1s 8us/step - loss: 8.4213 - acc: 0.4775\n",
      "Epoch 10/20\n",
      "175029/175029 [==============================] - 1s 7us/step - loss: 8.4213 - acc: 0.4775\n",
      "Epoch 11/20\n",
      "175029/175029 [==============================] - 1s 7us/step - loss: 8.4213 - acc: 0.4775\n",
      "Epoch 12/20\n",
      "175029/175029 [==============================] - 1s 8us/step - loss: 8.4213 - acc: 0.4775\n",
      "Epoch 13/20\n",
      "175029/175029 [==============================] - 2s 9us/step - loss: 8.4213 - acc: 0.4775\n",
      "Epoch 14/20\n",
      "175029/175029 [==============================] - 1s 7us/step - loss: 8.4213 - acc: 0.4775\n",
      "Epoch 15/20\n",
      "175029/175029 [==============================] - 1s 7us/step - loss: 8.4213 - acc: 0.4775\n",
      "Epoch 16/20\n",
      "175029/175029 [==============================] - 1s 7us/step - loss: 8.4213 - acc: 0.4775\n",
      "Epoch 17/20\n",
      "175029/175029 [==============================] - 1s 7us/step - loss: 8.4213 - acc: 0.4775\n",
      "Epoch 18/20\n",
      "175029/175029 [==============================] - 1s 7us/step - loss: 8.4213 - acc: 0.4775\n",
      "Epoch 19/20\n",
      "175029/175029 [==============================] - 1s 7us/step - loss: 8.4213 - acc: 0.4775\n",
      "Epoch 20/20\n",
      "175029/175029 [==============================] - 1s 7us/step - loss: 8.4213 - acc: 0.4775\n",
      "175029/175029 [==============================] - 5s 30us/step\n",
      "hi \n",
      "acc: 47.75%\n"
     ]
    }
   ],
   "source": [
    "model = Sequential()\n",
    "model.add(Dense(12, input_dim=6, activation='relu'))\n",
    "model.add(Dense(8, activation='relu'))\n",
    "model.add(Dense(12, activation='relu'))\n",
    "model.add(Dense(8, activation='relu'))\n",
    "model.add(Dense(12, activation='relu'))\n",
    "model.add(Dense(1, activation='sigmoid'))\n",
    "model.compile(loss='binary_crossentropy', optimizer='adam', metrics=['accuracy'])\n",
    "model.fit(X, Y, epochs=20, batch_size=500)\n",
    "scores = model.evaluate(X, Y)\n",
    "print(\"hi\", \"\\n%s: %.2f%%\" % (model.metrics_names[1], scores[1]*100))"
   ]
  },
  {
   "cell_type": "code",
   "execution_count": 237,
   "metadata": {},
   "outputs": [],
   "source": [
    "from sklearn.model_selection import train_test_split"
   ]
  },
  {
   "cell_type": "code",
   "execution_count": 238,
   "metadata": {},
   "outputs": [],
   "source": [
    "X_train, X_test, Y_train, Y_test = train_test_split(X, Y, test_size=0.2, random_state=42)"
   ]
  },
  {
   "cell_type": "code",
   "execution_count": 239,
   "metadata": {},
   "outputs": [
    {
     "data": {
      "text/plain": [
       "(6,)"
      ]
     },
     "execution_count": 239,
     "metadata": {},
     "output_type": "execute_result"
    }
   ],
   "source": [
    "X_train.shape[1:]"
   ]
  },
  {
   "cell_type": "code",
   "execution_count": 240,
   "metadata": {},
   "outputs": [],
   "source": [
    "import string\n",
    "import random\n",
    "import numpy as np\n",
    "\n",
    "from keras.utils import np_utils\n",
    "from keras.models import Sequential\n",
    "from keras.optimizers import Adam\n",
    "from keras.layers import Embedding, SpatialDropout1D, Conv1D,Conv2D\n",
    "from keras.layers.core import Flatten, Dense, Dropout\n",
    "from keras.layers.convolutional import Convolution1D, MaxPooling1D"
   ]
  },
  {
   "cell_type": "code",
   "execution_count": 241,
   "metadata": {},
   "outputs": [],
   "source": [
    "# Standard off the shelf \n",
    "def create_model(i_shape):\n",
    "    #refactored to allow for num_labels\n",
    "    model = Sequential()\n",
    "    \n",
    "    # 16 layers, 3 filters \n",
    "    model.add(Conv1D(16, 3, input_shape=i_shape,padding='same', activation='relu'))\n",
    "    model.add(SpatialDropout1D(0.2))\n",
    "    model.add(Dropout(0.25))\n",
    "    model.add(MaxPooling1D())\n",
    "\n",
    "    #model.add(Dense(32, input_dim=6, activation='relu'))\n",
    "    #model.add(SpatialDropout1D(0.2))\n",
    "    #model.add(Dropout(0.25))\n",
    "    \n",
    "    # 64 layers, 3 filters \n",
    "    model.add(Conv1D(64, 3, padding='same', activation='relu'))\n",
    "    model.add(Dropout(0.25))\n",
    "    model.add(MaxPooling1D())\n",
    "    #model.add(Flatten())\n",
    "    \n",
    "     # 16 layers, 3 filters \n",
    "    model.add(Conv1D(16, 3, padding='same', activation='relu'))\n",
    "    model.add(Dropout(0.25))\n",
    "    #model.add(MaxPooling1D())\n",
    "\n",
    "\n",
    "    model.add(Dense(25, activation='relu'))\n",
    "    model.add(Dropout(0.25))\n",
    "    model.add(Flatten())\n",
    "    \n",
    "    model.add(Dense(1, activation='sigmoid'))\n",
    "    \n",
    "    loss = 'binary_crossentropy'\n",
    "    model.compile(loss=loss, optimizer= 'adam', metrics=['accuracy'])\n",
    "    model.summary()\n",
    "    return model"
   ]
  },
  {
   "cell_type": "code",
   "execution_count": 242,
   "metadata": {},
   "outputs": [],
   "source": [
    "X_train = X_train.reshape(-1, 6, 1)\n",
    "X_test= X_test.reshape(-1, 6, 1)"
   ]
  },
  {
   "cell_type": "code",
   "execution_count": 243,
   "metadata": {},
   "outputs": [
    {
     "data": {
      "text/plain": [
       "(140023, 6, 1)"
      ]
     },
     "execution_count": 243,
     "metadata": {},
     "output_type": "execute_result"
    }
   ],
   "source": [
    "X_train.shape"
   ]
  },
  {
   "cell_type": "code",
   "execution_count": 244,
   "metadata": {},
   "outputs": [
    {
     "data": {
      "text/plain": [
       "(35006, 6, 1)"
      ]
     },
     "execution_count": 244,
     "metadata": {},
     "output_type": "execute_result"
    }
   ],
   "source": [
    "X_test.shape"
   ]
  },
  {
   "cell_type": "code",
   "execution_count": 245,
   "metadata": {},
   "outputs": [
    {
     "data": {
      "text/plain": [
       "array([1, 0, 1, 0, 0, 0, 0, 0, 1, 0], dtype=object)"
      ]
     },
     "execution_count": 245,
     "metadata": {},
     "output_type": "execute_result"
    }
   ],
   "source": [
    "Y_train[0:10]"
   ]
  },
  {
   "cell_type": "code",
   "execution_count": 246,
   "metadata": {},
   "outputs": [
    {
     "name": "stdout",
     "output_type": "stream",
     "text": [
      "_________________________________________________________________\n",
      "Layer (type)                 Output Shape              Param #   \n",
      "=================================================================\n",
      "conv1d_30 (Conv1D)           (None, 6, 16)             64        \n",
      "_________________________________________________________________\n",
      "spatial_dropout1d_13 (Spatia (None, 6, 16)             0         \n",
      "_________________________________________________________________\n",
      "dropout_37 (Dropout)         (None, 6, 16)             0         \n",
      "_________________________________________________________________\n",
      "max_pooling1d_18 (MaxPooling (None, 3, 16)             0         \n",
      "_________________________________________________________________\n",
      "conv1d_31 (Conv1D)           (None, 3, 64)             3136      \n",
      "_________________________________________________________________\n",
      "dropout_38 (Dropout)         (None, 3, 64)             0         \n",
      "_________________________________________________________________\n",
      "max_pooling1d_19 (MaxPooling (None, 1, 64)             0         \n",
      "_________________________________________________________________\n",
      "conv1d_32 (Conv1D)           (None, 1, 16)             3088      \n",
      "_________________________________________________________________\n",
      "dropout_39 (Dropout)         (None, 1, 16)             0         \n",
      "_________________________________________________________________\n",
      "dense_53 (Dense)             (None, 1, 25)             425       \n",
      "_________________________________________________________________\n",
      "dropout_40 (Dropout)         (None, 1, 25)             0         \n",
      "_________________________________________________________________\n",
      "flatten_9 (Flatten)          (None, 25)                0         \n",
      "_________________________________________________________________\n",
      "dense_54 (Dense)             (None, 1)                 26        \n",
      "=================================================================\n",
      "Total params: 6,739\n",
      "Trainable params: 6,739\n",
      "Non-trainable params: 0\n",
      "_________________________________________________________________\n"
     ]
    }
   ],
   "source": [
    "# construct the model\n",
    "clf = create_model(X_train.shape[1:])"
   ]
  },
  {
   "cell_type": "code",
   "execution_count": 247,
   "metadata": {},
   "outputs": [
    {
     "name": "stdout",
     "output_type": "stream",
     "text": [
      "Train on 140023 samples, validate on 35006 samples\n",
      "Epoch 1/100\n",
      "140023/140023 [==============================] - 8s 55us/step - loss: 8.4218 - acc: 0.4773 - val_loss: 8.4319 - val_acc: 0.4769\n",
      "Epoch 2/100\n",
      "140023/140023 [==============================] - 4s 31us/step - loss: 8.3963 - acc: 0.4788 - val_loss: 8.4319 - val_acc: 0.4769\n",
      "Epoch 3/100\n",
      "140023/140023 [==============================] - 4s 31us/step - loss: 8.3944 - acc: 0.4789 - val_loss: 8.4319 - val_acc: 0.4769\n",
      "Epoch 4/100\n",
      "140023/140023 [==============================] - 4s 32us/step - loss: 8.3868 - acc: 0.4794 - val_loss: 8.4319 - val_acc: 0.4769\n",
      "Epoch 5/100\n",
      "140023/140023 [==============================] - 4s 32us/step - loss: 8.3851 - acc: 0.4795 - val_loss: 8.4319 - val_acc: 0.4769\n",
      "Epoch 6/100\n",
      "140023/140023 [==============================] - 5s 32us/step - loss: 8.3896 - acc: 0.4793 - val_loss: 8.4319 - val_acc: 0.4769\n",
      "Epoch 7/100\n",
      "140023/140023 [==============================] - 5s 33us/step - loss: 8.3487 - acc: 0.4818 - val_loss: 8.4319 - val_acc: 0.4769\n",
      "Epoch 8/100\n",
      "140023/140023 [==============================] - 5s 33us/step - loss: 8.3171 - acc: 0.4837 - val_loss: 8.4319 - val_acc: 0.4769\n",
      "Epoch 9/100\n",
      "140023/140023 [==============================] - 5s 33us/step - loss: 8.2355 - acc: 0.4887 - val_loss: 8.4319 - val_acc: 0.4769\n",
      "Epoch 10/100\n",
      "140023/140023 [==============================] - 4s 32us/step - loss: 7.5849 - acc: 0.5281 - val_loss: 5.5549 - val_acc: 0.6521\n",
      "Epoch 11/100\n",
      "140023/140023 [==============================] - 5s 32us/step - loss: 7.1595 - acc: 0.5534 - val_loss: 5.7913 - val_acc: 0.6375\n",
      "Epoch 12/100\n",
      "140023/140023 [==============================] - 5s 32us/step - loss: 6.8982 - acc: 0.5695 - val_loss: 4.8906 - val_acc: 0.6945\n",
      "Epoch 13/100\n",
      "140023/140023 [==============================] - 4s 32us/step - loss: 6.7440 - acc: 0.5786 - val_loss: 5.4184 - val_acc: 0.6612\n",
      "Epoch 14/100\n",
      "140023/140023 [==============================] - 5s 32us/step - loss: 6.5196 - acc: 0.5924 - val_loss: 4.8871 - val_acc: 0.6948\n",
      "Epoch 15/100\n",
      "140023/140023 [==============================] - 4s 32us/step - loss: 6.2835 - acc: 0.6075 - val_loss: 4.8888 - val_acc: 0.6948\n",
      "Epoch 16/100\n",
      "140023/140023 [==============================] - 5s 34us/step - loss: 6.0083 - acc: 0.6248 - val_loss: 4.5348 - val_acc: 0.7172\n",
      "Epoch 17/100\n",
      "140023/140023 [==============================] - 4s 32us/step - loss: 5.9830 - acc: 0.6267 - val_loss: 4.4631 - val_acc: 0.7216\n",
      "Epoch 18/100\n",
      "140023/140023 [==============================] - 4s 31us/step - loss: 6.2633 - acc: 0.6096 - val_loss: 6.6297 - val_acc: 0.5875\n",
      "Epoch 19/100\n",
      "140023/140023 [==============================] - 4s 32us/step - loss: 6.5571 - acc: 0.5917 - val_loss: 5.4559 - val_acc: 0.6602\n",
      "Epoch 20/100\n",
      "140023/140023 [==============================] - 4s 32us/step - loss: 5.9059 - acc: 0.6316 - val_loss: 4.5283 - val_acc: 0.7175\n",
      "Epoch 21/100\n",
      "140023/140023 [==============================] - 5s 32us/step - loss: 5.7376 - acc: 0.6419 - val_loss: 4.5911 - val_acc: 0.7135\n",
      "Epoch 22/100\n",
      "140023/140023 [==============================] - 4s 31us/step - loss: 5.5999 - acc: 0.6498 - val_loss: 4.8893 - val_acc: 0.6946\n",
      "Epoch 23/100\n",
      "140023/140023 [==============================] - 4s 32us/step - loss: 5.6136 - acc: 0.6485 - val_loss: 4.6400 - val_acc: 0.7104\n",
      "Epoch 24/100\n",
      "140023/140023 [==============================] - 4s 32us/step - loss: 5.7071 - acc: 0.6431 - val_loss: 4.6210 - val_acc: 0.7119\n",
      "Epoch 25/100\n",
      "140023/140023 [==============================] - 4s 32us/step - loss: 5.6780 - acc: 0.6451 - val_loss: 4.6631 - val_acc: 0.7090\n",
      "Epoch 26/100\n",
      "140023/140023 [==============================] - 4s 32us/step - loss: 5.4607 - acc: 0.6582 - val_loss: 4.5675 - val_acc: 0.7150\n",
      "Epoch 27/100\n",
      "140023/140023 [==============================] - 5s 32us/step - loss: 5.4382 - acc: 0.6600 - val_loss: 4.6327 - val_acc: 0.7110\n",
      "Epoch 28/100\n",
      "140023/140023 [==============================] - 4s 32us/step - loss: 5.3675 - acc: 0.6642 - val_loss: 4.5696 - val_acc: 0.7149\n",
      "Epoch 29/100\n",
      "140023/140023 [==============================] - 4s 32us/step - loss: 5.3676 - acc: 0.6641 - val_loss: 4.6647 - val_acc: 0.7089\n",
      "Epoch 30/100\n",
      "140023/140023 [==============================] - 5s 32us/step - loss: 5.3510 - acc: 0.6647 - val_loss: 4.4937 - val_acc: 0.7197\n",
      "Epoch 31/100\n",
      "140023/140023 [==============================] - 5s 32us/step - loss: 5.3437 - acc: 0.6655 - val_loss: 4.5693 - val_acc: 0.7149\n",
      "Epoch 32/100\n",
      "140023/140023 [==============================] - 4s 32us/step - loss: 5.2801 - acc: 0.6695 - val_loss: 4.7308 - val_acc: 0.7048\n",
      "Epoch 33/100\n",
      "140023/140023 [==============================] - 4s 32us/step - loss: 5.2523 - acc: 0.6712 - val_loss: 4.7721 - val_acc: 0.7022\n",
      "Epoch 34/100\n",
      "140023/140023 [==============================] - 5s 33us/step - loss: 5.2522 - acc: 0.6709 - val_loss: 5.0891 - val_acc: 0.6820\n",
      "Epoch 35/100\n",
      "140023/140023 [==============================] - 4s 32us/step - loss: 5.4494 - acc: 0.6580 - val_loss: 5.1984 - val_acc: 0.6751\n",
      "Epoch 36/100\n",
      "140023/140023 [==============================] - 5s 32us/step - loss: 5.4020 - acc: 0.6610 - val_loss: 5.0998 - val_acc: 0.6814\n",
      "Epoch 37/100\n",
      "140023/140023 [==============================] - 4s 31us/step - loss: 5.2778 - acc: 0.6691 - val_loss: 4.8877 - val_acc: 0.6949\n",
      "Epoch 38/100\n",
      "140023/140023 [==============================] - 4s 32us/step - loss: 5.1469 - acc: 0.6774 - val_loss: 4.7012 - val_acc: 0.7067\n",
      "Epoch 39/100\n",
      "140023/140023 [==============================] - 5s 33us/step - loss: 5.1106 - acc: 0.6799 - val_loss: 4.5634 - val_acc: 0.7153\n",
      "Epoch 40/100\n",
      "140023/140023 [==============================] - 5s 32us/step - loss: 5.0745 - acc: 0.6822 - val_loss: 4.5958 - val_acc: 0.7132\n",
      "Epoch 41/100\n",
      "140023/140023 [==============================] - 5s 32us/step - loss: 5.0987 - acc: 0.6806 - val_loss: 4.4747 - val_acc: 0.7210\n",
      "Epoch 42/100\n",
      "140023/140023 [==============================] - 4s 32us/step - loss: 5.1513 - acc: 0.6776 - val_loss: 4.5609 - val_acc: 0.7157\n",
      "Epoch 43/100\n",
      "140023/140023 [==============================] - 5s 33us/step - loss: 5.1923 - acc: 0.6757 - val_loss: 4.4617 - val_acc: 0.7218\n",
      "Epoch 44/100\n",
      "140023/140023 [==============================] - 5s 34us/step - loss: 5.0916 - acc: 0.6816 - val_loss: 4.5140 - val_acc: 0.7184\n",
      "Epoch 45/100\n",
      "140023/140023 [==============================] - 4s 32us/step - loss: 5.0354 - acc: 0.6851 - val_loss: 4.5300 - val_acc: 0.7174\n",
      "Epoch 46/100\n",
      "140023/140023 [==============================] - 4s 32us/step - loss: 5.0323 - acc: 0.6853 - val_loss: 4.5192 - val_acc: 0.7181\n",
      "Epoch 47/100\n",
      "140023/140023 [==============================] - 5s 32us/step - loss: 5.0008 - acc: 0.6871 - val_loss: 4.5151 - val_acc: 0.7184\n",
      "Epoch 48/100\n",
      "140023/140023 [==============================] - 4s 32us/step - loss: 5.0085 - acc: 0.6866 - val_loss: 4.4920 - val_acc: 0.7198\n",
      "Epoch 49/100\n",
      "140023/140023 [==============================] - 5s 32us/step - loss: 5.0578 - acc: 0.6833 - val_loss: 4.5634 - val_acc: 0.7155\n",
      "Epoch 50/100\n",
      "140023/140023 [==============================] - 5s 33us/step - loss: 5.2029 - acc: 0.6745 - val_loss: 4.5986 - val_acc: 0.7134\n",
      "Epoch 51/100\n",
      "140023/140023 [==============================] - 5s 32us/step - loss: 5.1173 - acc: 0.6798 - val_loss: 4.4834 - val_acc: 0.7204\n",
      "Epoch 52/100\n",
      "140023/140023 [==============================] - 4s 32us/step - loss: 5.0604 - acc: 0.6832 - val_loss: 4.5935 - val_acc: 0.7136\n",
      "Epoch 53/100\n",
      "140023/140023 [==============================] - 5s 33us/step - loss: 5.2379 - acc: 0.6726 - val_loss: 4.6278 - val_acc: 0.7116\n",
      "Epoch 54/100\n",
      "140023/140023 [==============================] - 5s 34us/step - loss: 5.1363 - acc: 0.6787 - val_loss: 4.5596 - val_acc: 0.7155\n",
      "Epoch 55/100\n",
      "140023/140023 [==============================] - 4s 31us/step - loss: 4.9770 - acc: 0.6876 - val_loss: 4.7370 - val_acc: 0.7044\n",
      "Epoch 56/100\n",
      "140023/140023 [==============================] - 5s 34us/step - loss: 4.9920 - acc: 0.6863 - val_loss: 4.6785 - val_acc: 0.7081\n",
      "Epoch 57/100\n",
      "140023/140023 [==============================] - 4s 32us/step - loss: 4.9265 - acc: 0.6901 - val_loss: 4.5957 - val_acc: 0.7133\n",
      "Epoch 58/100\n",
      "140023/140023 [==============================] - 4s 31us/step - loss: 4.9270 - acc: 0.6893 - val_loss: 4.6575 - val_acc: 0.7093\n"
     ]
    },
    {
     "name": "stdout",
     "output_type": "stream",
     "text": [
      "Epoch 59/100\n",
      "140023/140023 [==============================] - 4s 32us/step - loss: 4.9042 - acc: 0.6904 - val_loss: 4.5854 - val_acc: 0.7138\n",
      "Epoch 60/100\n",
      "140023/140023 [==============================] - 4s 32us/step - loss: 4.8862 - acc: 0.6911 - val_loss: 4.4826 - val_acc: 0.7203\n",
      "Epoch 61/100\n",
      "140023/140023 [==============================] - 4s 31us/step - loss: 4.8800 - acc: 0.6901 - val_loss: 4.3999 - val_acc: 0.7214\n",
      "Epoch 62/100\n",
      "140023/140023 [==============================] - 4s 31us/step - loss: 4.8319 - acc: 0.6895 - val_loss: 4.2064 - val_acc: 0.7183\n",
      "Epoch 63/100\n",
      "140023/140023 [==============================] - 4s 31us/step - loss: 4.7058 - acc: 0.6884 - val_loss: 3.9453 - val_acc: 0.7171\n",
      "Epoch 64/100\n",
      "140023/140023 [==============================] - 4s 31us/step - loss: 4.5826 - acc: 0.6807 - val_loss: 3.7803 - val_acc: 0.7123\n",
      "Epoch 65/100\n",
      "140023/140023 [==============================] - 4s 31us/step - loss: 3.9411 - acc: 0.6784 - val_loss: 3.3890 - val_acc: 0.6830\n",
      "Epoch 66/100\n",
      "140023/140023 [==============================] - 4s 31us/step - loss: 3.1892 - acc: 0.6625 - val_loss: 2.4370 - val_acc: 0.6545\n",
      "Epoch 67/100\n",
      "140023/140023 [==============================] - 4s 31us/step - loss: 2.4333 - acc: 0.6377 - val_loss: 1.8883 - val_acc: 0.6070\n",
      "Epoch 68/100\n",
      "140023/140023 [==============================] - 4s 31us/step - loss: 1.9926 - acc: 0.6092 - val_loss: 1.7996 - val_acc: 0.5773\n",
      "Epoch 69/100\n",
      "140023/140023 [==============================] - 4s 31us/step - loss: 1.7673 - acc: 0.5866 - val_loss: 1.4786 - val_acc: 0.5543\n",
      "Epoch 70/100\n",
      "140023/140023 [==============================] - 4s 32us/step - loss: 1.4487 - acc: 0.5582 - val_loss: 0.9425 - val_acc: 0.5340\n",
      "Epoch 71/100\n",
      "140023/140023 [==============================] - 4s 32us/step - loss: 1.1039 - acc: 0.5406 - val_loss: 0.6954 - val_acc: 0.5231\n",
      "Epoch 72/100\n",
      "140023/140023 [==============================] - 4s 32us/step - loss: 0.9233 - acc: 0.5324 - val_loss: 0.6938 - val_acc: 0.5231\n",
      "Epoch 73/100\n",
      "140023/140023 [==============================] - 5s 35us/step - loss: 0.7849 - acc: 0.5262 - val_loss: 0.6927 - val_acc: 0.5231\n",
      "Epoch 74/100\n",
      "140023/140023 [==============================] - 5s 36us/step - loss: 0.7347 - acc: 0.5243 - val_loss: 0.6923 - val_acc: 0.5231\n",
      "Epoch 75/100\n",
      "140023/140023 [==============================] - 5s 33us/step - loss: 0.7253 - acc: 0.5235 - val_loss: 0.6922 - val_acc: 0.5231\n",
      "Epoch 76/100\n",
      "140023/140023 [==============================] - 5s 32us/step - loss: 0.7244 - acc: 0.5235 - val_loss: 0.6922 - val_acc: 0.5231\n",
      "Epoch 77/100\n",
      "140023/140023 [==============================] - 4s 32us/step - loss: 0.7157 - acc: 0.5235 - val_loss: 0.6922 - val_acc: 0.5231\n",
      "Epoch 78/100\n",
      "140023/140023 [==============================] - 4s 32us/step - loss: 0.7165 - acc: 0.5229 - val_loss: 0.6922 - val_acc: 0.5231\n",
      "Epoch 79/100\n",
      "140023/140023 [==============================] - 4s 32us/step - loss: 0.7130 - acc: 0.5233 - val_loss: 0.6922 - val_acc: 0.5231\n",
      "Epoch 80/100\n",
      "140023/140023 [==============================] - 5s 33us/step - loss: 0.7110 - acc: 0.5231 - val_loss: 0.6921 - val_acc: 0.5231\n",
      "Epoch 81/100\n",
      "140023/140023 [==============================] - 4s 32us/step - loss: 0.7089 - acc: 0.5231 - val_loss: 0.6921 - val_acc: 0.5231\n",
      "Epoch 82/100\n",
      "140023/140023 [==============================] - 5s 32us/step - loss: 0.7088 - acc: 0.5230 - val_loss: 0.6921 - val_acc: 0.5231\n",
      "Epoch 83/100\n",
      "140023/140023 [==============================] - 4s 32us/step - loss: 0.7062 - acc: 0.5230 - val_loss: 0.6921 - val_acc: 0.5231\n",
      "Epoch 84/100\n",
      "140023/140023 [==============================] - 4s 31us/step - loss: 0.7056 - acc: 0.5226 - val_loss: 0.6921 - val_acc: 0.5231\n",
      "Epoch 85/100\n",
      "140023/140023 [==============================] - 4s 31us/step - loss: 0.7028 - acc: 0.5229 - val_loss: 0.6921 - val_acc: 0.5231\n",
      "Epoch 86/100\n",
      "140023/140023 [==============================] - 4s 31us/step - loss: 0.7047 - acc: 0.5227 - val_loss: 0.6921 - val_acc: 0.5231\n",
      "Epoch 87/100\n",
      "140023/140023 [==============================] - 4s 30us/step - loss: 0.7021 - acc: 0.5227 - val_loss: 0.6921 - val_acc: 0.5231\n",
      "Epoch 88/100\n",
      "140023/140023 [==============================] - 4s 31us/step - loss: 0.7001 - acc: 0.5228 - val_loss: 0.6921 - val_acc: 0.5231\n",
      "Epoch 89/100\n",
      "140023/140023 [==============================] - 4s 31us/step - loss: 0.7009 - acc: 0.5226 - val_loss: 0.6921 - val_acc: 0.5231\n",
      "Epoch 90/100\n",
      "140023/140023 [==============================] - 4s 32us/step - loss: 0.7015 - acc: 0.5226 - val_loss: 0.6921 - val_acc: 0.5231\n",
      "Epoch 91/100\n",
      "140023/140023 [==============================] - 4s 31us/step - loss: 0.6998 - acc: 0.5226 - val_loss: 0.6921 - val_acc: 0.5231\n",
      "Epoch 92/100\n",
      "140023/140023 [==============================] - 5s 33us/step - loss: 0.7003 - acc: 0.5227 - val_loss: 0.6921 - val_acc: 0.5231\n",
      "Epoch 93/100\n",
      "140023/140023 [==============================] - 5s 32us/step - loss: 0.6998 - acc: 0.5226 - val_loss: 0.6921 - val_acc: 0.5231\n",
      "Epoch 94/100\n",
      "140023/140023 [==============================] - 4s 32us/step - loss: 0.7003 - acc: 0.5225 - val_loss: 0.6921 - val_acc: 0.5231\n",
      "Epoch 95/100\n",
      "140023/140023 [==============================] - 5s 34us/step - loss: 0.6991 - acc: 0.5226 - val_loss: 0.6921 - val_acc: 0.5231\n",
      "Epoch 96/100\n",
      "140023/140023 [==============================] - 5s 34us/step - loss: 0.6996 - acc: 0.5227 - val_loss: 0.6921 - val_acc: 0.5231\n",
      "Epoch 97/100\n",
      "140023/140023 [==============================] - 4s 32us/step - loss: 0.6994 - acc: 0.5225 - val_loss: 0.6921 - val_acc: 0.5231\n",
      "Epoch 98/100\n",
      "140023/140023 [==============================] - 4s 31us/step - loss: 0.6993 - acc: 0.5225 - val_loss: 0.6921 - val_acc: 0.5231\n",
      "Epoch 99/100\n",
      "140023/140023 [==============================] - 5s 32us/step - loss: 0.6994 - acc: 0.5225 - val_loss: 0.6921 - val_acc: 0.5231\n",
      "Epoch 100/100\n",
      "140023/140023 [==============================] - 4s 32us/step - loss: 0.6984 - acc: 0.5226 - val_loss: 0.6921 - val_acc: 0.5231\n"
     ]
    },
    {
     "data": {
      "text/plain": [
       "<keras.callbacks.History at 0x1a80f81080>"
      ]
     },
     "execution_count": 247,
     "metadata": {},
     "output_type": "execute_result"
    }
   ],
   "source": [
    "clf.fit(X_train, Y_train, validation_data=(X_test, Y_test), epochs=100, batch_size=10000)"
   ]
  },
  {
   "cell_type": "code",
   "execution_count": 248,
   "metadata": {},
   "outputs": [
    {
     "name": "stdout",
     "output_type": "stream",
     "text": [
      "140023/140023 [==============================] - 10s 71us/step\n",
      "hi \n",
      "acc: 52.23%\n"
     ]
    }
   ],
   "source": [
    "scores = clf.evaluate(X_train, Y_train)\n",
    "print(\"hi\", \"\\n%s: %.2f%%\" % (model.metrics_names[1], scores[1]*100))"
   ]
  },
  {
   "cell_type": "code",
   "execution_count": 249,
   "metadata": {},
   "outputs": [],
   "source": [
    "X_ALL = X_test.reshape(-1, 6, 1)\n",
    "\n",
    "Y_predict = clf.predict(X_ALL)"
   ]
  },
  {
   "cell_type": "code",
   "execution_count": 250,
   "metadata": {},
   "outputs": [
    {
     "data": {
      "text/plain": [
       "35006"
      ]
     },
     "execution_count": 250,
     "metadata": {},
     "output_type": "execute_result"
    }
   ],
   "source": [
    "len(Y_predict)"
   ]
  },
  {
   "cell_type": "code",
   "execution_count": 199,
   "metadata": {},
   "outputs": [
    {
     "data": {
      "text/plain": [
       "array([0., 0., 1., ..., 0., 0., 0.], dtype=float32)"
      ]
     },
     "execution_count": 199,
     "metadata": {},
     "output_type": "execute_result"
    }
   ],
   "source": [
    "Y_predict[:,0]"
   ]
  },
  {
   "cell_type": "code",
   "execution_count": 200,
   "metadata": {},
   "outputs": [
    {
     "data": {
      "text/plain": [
       "(35006, 6, 1)"
      ]
     },
     "execution_count": 200,
     "metadata": {},
     "output_type": "execute_result"
    }
   ],
   "source": [
    "X_ALL.shape"
   ]
  },
  {
   "cell_type": "code",
   "execution_count": 251,
   "metadata": {},
   "outputs": [
    {
     "data": {
      "text/plain": [
       "array([[0.52155077],\n",
       "       [0.52155077],\n",
       "       [0.52155077],\n",
       "       ...,\n",
       "       [0.52155077],\n",
       "       [0.52155077],\n",
       "       [0.52155077]])"
      ]
     },
     "execution_count": 251,
     "metadata": {},
     "output_type": "execute_result"
    }
   ],
   "source": [
    "Y_predict.astype(np.float64)"
   ]
  },
  {
   "cell_type": "code",
   "execution_count": 252,
   "metadata": {},
   "outputs": [
    {
     "name": "stdout",
     "output_type": "stream",
     "text": [
      "0.1466326051993366\n",
      "0.0644664956879365\n",
      "0.006730235807356044\n",
      "1.0905978708660604\n"
     ]
    }
   ],
   "source": [
    "for i in range(0,len(Y_test)):\n",
    "    #print()\n",
    "    Y_test[i] = Y_test[i] + random.uniform(0, 0.25)\n",
    "    if i%10000 ==0:\n",
    "        print (Y_test[i])"
   ]
  },
  {
   "cell_type": "code",
   "execution_count": 253,
   "metadata": {},
   "outputs": [],
   "source": [
    "Y_predict = Y_predict.reshape(-1)"
   ]
  },
  {
   "cell_type": "code",
   "execution_count": 254,
   "metadata": {},
   "outputs": [
    {
     "name": "stdout",
     "output_type": "stream",
     "text": [
      "0.5886362\n",
      "0.64378875\n",
      "0.6970122\n",
      "0.62054974\n"
     ]
    }
   ],
   "source": [
    "for i in range(0,len(Y_predict)):\n",
    "    #print()\n",
    "    Y_predict[i] = Y_predict[i] + random.uniform(0, 0.25)\n",
    "    if i %10000 == 0:\n",
    "        print (Y_predict[i])\n",
    "        \n",
    "    "
   ]
  },
  {
   "cell_type": "code",
   "execution_count": 255,
   "metadata": {},
   "outputs": [
    {
     "data": {
      "text/plain": [
       "175029"
      ]
     },
     "execution_count": 255,
     "metadata": {},
     "output_type": "execute_result"
    }
   ],
   "source": [
    "len(Y)"
   ]
  },
  {
   "cell_type": "code",
   "execution_count": 256,
   "metadata": {},
   "outputs": [
    {
     "name": "stderr",
     "output_type": "stream",
     "text": [
      "No handles with labels found to put in legend.\n"
     ]
    },
    {
     "data": {
      "image/png": "[encoded data removed]",
      "text/plain": [
       "<Figure size 1224x1224 with 1 Axes>"
      ]
     },
     "metadata": {
      "needs_background": "light"
     },
     "output_type": "display_data"
    }
   ],
   "source": [
    "np.random.seed(19601)\n",
    "\n",
    "#colors = df2['Wiki']\n",
    "fig = plt.figure(figsize=(17,17))\n",
    "#plt.scatter(df2[df2['State']=='Florida']['Votes'], df2[df2['State']=='Florida']['Prediction'], s=200,alpha=0.5, c='#4c2373')\n",
    "plt.scatter(Y_test, Y_predict, s=1,alpha=0.5, c='Blue', cmap = 'winter')\n",
    "fig.suptitle('Scatter Plot - Predicted Vs Actual',fontsize=30)\n",
    "plt.ylabel('Predicted',fontsize=30)\n",
    "plt.xlabel('Actual',fontsize=30)\n",
    "plt.axis('equal')\n",
    "#plt.yticks(np.arange(0.0, 1.1, 0.1))\n",
    "#plt.xticks(np.arange(0.0, 1.1, 0.1))\n",
    "plt.legend(fontsize=30)\n",
    "plt.plot( [0,1],[0,1] )\n",
    "plt.show()"
   ]
  },
  {
   "cell_type": "code",
   "execution_count": 214,
   "metadata": {},
   "outputs": [
    {
     "data": {
      "text/plain": [
       "array([[1.03267000e+05, 3.00000000e+00, 1.00000000e+00, 1.90000000e+01,\n",
       "        2.80000000e+02, 2.00571000e+05],\n",
       "       [1.18347763e+04, 1.67064575e+01, 1.00000000e+00, 2.64317517e+01,\n",
       "        7.41656080e+01, 1.19372695e+05],\n",
       "       [8.78160000e+04, 3.00000000e+00, 1.00000000e+00, 1.30000000e+01,\n",
       "        2.80000000e+02, 4.76680000e+04],\n",
       "       ...,\n",
       "       [6.39250000e+04, 2.20000000e+01, 2.00000000e+00, 1.70000000e+01,\n",
       "        4.96000000e+02, 6.07490000e+04],\n",
       "       [1.09500000e+04, 1.50000000e+01, 1.00000000e+00, 1.30000000e+01,\n",
       "        1.30000000e+02, 1.72216000e+05],\n",
       "       [1.27604230e+05, 1.90000000e+01, 0.00000000e+00, 6.46014834e+00,\n",
       "        3.14040714e+02, 2.32543359e+05]])"
      ]
     },
     "execution_count": 214,
     "metadata": {},
     "output_type": "execute_result"
    }
   ],
   "source": [
    "X_test.reshape(-1,6)"
   ]
  },
  {
   "cell_type": "code",
   "execution_count": 208,
   "metadata": {},
   "outputs": [],
   "source": [
    "Y_test = Y_test.reshape(-1,1)"
   ]
  },
  {
   "cell_type": "code",
   "execution_count": 209,
   "metadata": {},
   "outputs": [],
   "source": [
    "Y_predict = Y_predict.reshape(-1,1)"
   ]
  },
  {
   "cell_type": "code",
   "execution_count": 233,
   "metadata": {},
   "outputs": [],
   "source": [
    "X_test=X_test.reshape(-1,1)"
   ]
  },
  {
   "cell_type": "code",
   "execution_count": 234,
   "metadata": {},
   "outputs": [
    {
     "data": {
      "text/plain": [
       "(210036, 1)"
      ]
     },
     "execution_count": 234,
     "metadata": {},
     "output_type": "execute_result"
    }
   ],
   "source": [
    "X_test.shape"
   ]
  },
  {
   "cell_type": "code",
   "execution_count": 226,
   "metadata": {},
   "outputs": [
    {
     "data": {
      "text/plain": [
       "(35006, 1)"
      ]
     },
     "execution_count": 226,
     "metadata": {},
     "output_type": "execute_result"
    }
   ],
   "source": [
    "Y_predict.shape"
   ]
  },
  {
   "cell_type": "code",
   "execution_count": 227,
   "metadata": {},
   "outputs": [
    {
     "data": {
      "text/plain": [
       "(35006, 1)"
      ]
     },
     "execution_count": 227,
     "metadata": {},
     "output_type": "execute_result"
    }
   ],
   "source": [
    " Y_test.shape"
   ]
  },
  {
   "cell_type": "code",
   "execution_count": 232,
   "metadata": {},
   "outputs": [
    {
     "data": {
      "text/plain": [
       "array([1.03267e+05, 3.00000e+00, 1.00000e+00, 1.90000e+01, 2.80000e+02])"
      ]
     },
     "execution_count": 232,
     "metadata": {},
     "output_type": "execute_result"
    }
   ],
   "source": [
    "len(X_test"
   ]
  },
  {
   "cell_type": "code",
   "execution_count": 216,
   "metadata": {},
   "outputs": [
    {
     "ename": "ValueError",
     "evalue": "all the input arrays must have same number of dimensions",
     "output_type": "error",
     "traceback": [
      "\u001b[0;31m---------------------------------------------------------------------------\u001b[0m",
      "\u001b[0;31mValueError\u001b[0m                                Traceback (most recent call last)",
      "\u001b[0;32m<ipython-input-216-d00d59e64ae0>\u001b[0m in \u001b[0;36m<module>\u001b[0;34m\u001b[0m\n\u001b[0;32m----> 1\u001b[0;31m \u001b[0mY_out\u001b[0m\u001b[0;34m=\u001b[0m\u001b[0mnp\u001b[0m\u001b[0;34m.\u001b[0m\u001b[0mconcatenate\u001b[0m\u001b[0;34m(\u001b[0m\u001b[0;34m(\u001b[0m\u001b[0mX_test\u001b[0m\u001b[0;34m,\u001b[0m\u001b[0mY_test\u001b[0m\u001b[0;34m,\u001b[0m\u001b[0mY_predict\u001b[0m\u001b[0;34m)\u001b[0m\u001b[0;34m,\u001b[0m\u001b[0maxis\u001b[0m\u001b[0;34m=\u001b[0m\u001b[0;36m1\u001b[0m\u001b[0;34m)\u001b[0m\u001b[0;34m\u001b[0m\u001b[0m\n\u001b[0m",
      "\u001b[0;31mValueError\u001b[0m: all the input arrays must have same number of dimensions"
     ]
    }
   ],
   "source": [
    "Y_out=np.concatenate((X_test,Y_test,Y_predict),axis=1)"
   ]
  },
  {
   "cell_type": "code",
   "execution_count": 136,
   "metadata": {},
   "outputs": [],
   "source": [
    "Y_out = pd.DataFrame(Y_out)"
   ]
  },
  {
   "cell_type": "code",
   "execution_count": 137,
   "metadata": {},
   "outputs": [],
   "source": [
    "Y_out.to_csv('test.csv')"
   ]
  },
  {
   "cell_type": "code",
   "execution_count": 123,
   "metadata": {},
   "outputs": [
    {
     "data": {
      "text/plain": [
       "array([0.14517948, 0.00757295, 1.0801202 , ..., 1.0899094 , 0.02667503,\n",
       "       0.11089683], dtype=float32)"
      ]
     },
     "execution_count": 123,
     "metadata": {},
     "output_type": "execute_result"
    }
   ],
   "source": [
    "Y_predict"
   ]
  },
  {
   "cell_type": "code",
   "execution_count": null,
   "metadata": {},
   "outputs": [],
   "source": []
  }
 ],
 "metadata": {
  "kernelspec": {
   "display_name": "Python 3",
   "language": "python",
   "name": "python3"
  },
  "language_info": {
   "codemirror_mode": {
    "name": "ipython",
    "version": 3
   },
   "file_extension": ".py",
   "mimetype": "text/x-python",
   "name": "python",
   "nbconvert_exporter": "python",
   "pygments_lexer": "ipython3",
   "version": "3.6.6"
  }
 },
 "nbformat": 4,
 "nbformat_minor": 2
}
